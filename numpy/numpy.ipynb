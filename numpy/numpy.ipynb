{
 "cells": [
  {
   "cell_type": "code",
   "execution_count": 1,
   "id": "9b8713ee",
   "metadata": {},
   "outputs": [],
   "source": [
    "#numpy called as arrays\n",
    "import numpy as np"
   ]
  },
  {
   "cell_type": "code",
   "execution_count": 2,
   "id": "eb049a36",
   "metadata": {},
   "outputs": [
    {
     "data": {
      "text/plain": [
       "list"
      ]
     },
     "execution_count": 2,
     "metadata": {},
     "output_type": "execute_result"
    }
   ],
   "source": [
    "l=[\"sudh\",1,2,3,4]\n",
    "type(l)"
   ]
  },
  {
   "cell_type": "code",
   "execution_count": 3,
   "id": "ff03ac8d",
   "metadata": {},
   "outputs": [
    {
     "data": {
      "text/plain": [
       "array(['sudh', '1', '2', '3', '4'], dtype='<U11')"
      ]
     },
     "execution_count": 3,
     "metadata": {},
     "output_type": "execute_result"
    }
   ],
   "source": [
    "np.array(l)"
   ]
  },
  {
   "cell_type": "code",
   "execution_count": 4,
   "id": "e484f546",
   "metadata": {},
   "outputs": [
    {
     "data": {
      "text/plain": [
       "numpy.ndarray"
      ]
     },
     "execution_count": 4,
     "metadata": {},
     "output_type": "execute_result"
    }
   ],
   "source": [
    "type(np.array(l))"
   ]
  },
  {
   "cell_type": "code",
   "execution_count": 5,
   "id": "99960be8",
   "metadata": {},
   "outputs": [],
   "source": [
    "a1=np.array([3,4,5,6,3.0])"
   ]
  },
  {
   "cell_type": "code",
   "execution_count": 6,
   "id": "9e398e37",
   "metadata": {},
   "outputs": [
    {
     "data": {
      "text/plain": [
       "array([[1, 2],\n",
       "       [3, 4]])"
      ]
     },
     "execution_count": 6,
     "metadata": {},
     "output_type": "execute_result"
    }
   ],
   "source": [
    "a=np.array([[1,2],[3,4]])\n",
    "a"
   ]
  },
  {
   "cell_type": "code",
   "execution_count": 7,
   "id": "16e6b9a2",
   "metadata": {},
   "outputs": [
    {
     "data": {
      "text/plain": [
       "4"
      ]
     },
     "execution_count": 7,
     "metadata": {},
     "output_type": "execute_result"
    }
   ],
   "source": [
    "a[1][1]"
   ]
  },
  {
   "cell_type": "code",
   "execution_count": 8,
   "id": "459d0996",
   "metadata": {},
   "outputs": [
    {
     "data": {
      "text/plain": [
       "array([3., 4., 5., 6., 3.])"
      ]
     },
     "execution_count": 8,
     "metadata": {},
     "output_type": "execute_result"
    }
   ],
   "source": [
    "a1"
   ]
  },
  {
   "cell_type": "code",
   "execution_count": 9,
   "id": "d54d27c7",
   "metadata": {},
   "outputs": [
    {
     "data": {
      "text/plain": [
       "4.0"
      ]
     },
     "execution_count": 9,
     "metadata": {},
     "output_type": "execute_result"
    }
   ],
   "source": [
    "a1[1]"
   ]
  },
  {
   "cell_type": "code",
   "execution_count": 10,
   "id": "42226b9f",
   "metadata": {},
   "outputs": [
    {
     "data": {
      "text/plain": [
       "array([[[[1, 2, 3, 4]]]])"
      ]
     },
     "execution_count": 10,
     "metadata": {},
     "output_type": "execute_result"
    }
   ],
   "source": [
    "a2=np.array([1,2,3,4],ndmin=4)\n",
    "a2"
   ]
  },
  {
   "cell_type": "code",
   "execution_count": 11,
   "id": "a11fd7fe",
   "metadata": {},
   "outputs": [
    {
     "data": {
      "text/plain": [
       "1"
      ]
     },
     "execution_count": 11,
     "metadata": {},
     "output_type": "execute_result"
    }
   ],
   "source": [
    "a2[0][0][0][0]"
   ]
  },
  {
   "cell_type": "code",
   "execution_count": 12,
   "id": "333ae9a7",
   "metadata": {},
   "outputs": [
    {
     "data": {
      "text/plain": [
       "array([1, 2, 3, 4, 5])"
      ]
     },
     "execution_count": 12,
     "metadata": {},
     "output_type": "execute_result"
    }
   ],
   "source": [
    "#converts inputs to any dimentsion array\n",
    "np.asanyarray([1,2,3,4,5])"
   ]
  },
  {
   "cell_type": "code",
   "execution_count": 13,
   "id": "04e0f07f",
   "metadata": {},
   "outputs": [
    {
     "data": {
      "text/plain": [
       "array([1, 2, 3, 4, 5])"
      ]
     },
     "execution_count": 13,
     "metadata": {},
     "output_type": "execute_result"
    }
   ],
   "source": [
    "np.asarray([1,2,3,4,5])"
   ]
  },
  {
   "cell_type": "code",
   "execution_count": 14,
   "id": "47d4041c",
   "metadata": {},
   "outputs": [
    {
     "data": {
      "text/plain": [
       "matrix([[1, 2, 3, 4, 5]])"
      ]
     },
     "execution_count": 14,
     "metadata": {},
     "output_type": "execute_result"
    }
   ],
   "source": [
    "np.mat([1,2,3,4,5])"
   ]
  },
  {
   "cell_type": "code",
   "execution_count": 15,
   "id": "1300535b",
   "metadata": {},
   "outputs": [
    {
     "data": {
      "text/plain": [
       "array([1, 2, 3, 4, 5])"
      ]
     },
     "execution_count": 15,
     "metadata": {},
     "output_type": "execute_result"
    }
   ],
   "source": [
    "a=[1,2,3,4,5]\n",
    "np.asarray(a)"
   ]
  },
  {
   "cell_type": "code",
   "execution_count": 16,
   "id": "9eae3ddf",
   "metadata": {},
   "outputs": [
    {
     "data": {
      "text/plain": [
       "array([1, 2, 3, 4, 5])"
      ]
     },
     "execution_count": 16,
     "metadata": {},
     "output_type": "execute_result"
    }
   ],
   "source": [
    "#as it is array\n",
    "np.asanyarray(a)"
   ]
  },
  {
   "cell_type": "code",
   "execution_count": 17,
   "id": "7ab9a69e",
   "metadata": {},
   "outputs": [
    {
     "data": {
      "text/plain": [
       "matrix([[1, 2, 3, 4, 5]])"
      ]
     },
     "execution_count": 17,
     "metadata": {},
     "output_type": "execute_result"
    }
   ],
   "source": [
    "#array to matrix\n",
    "np.asanyarray(np.mat(a))"
   ]
  },
  {
   "cell_type": "code",
   "execution_count": 18,
   "id": "a6f7492a",
   "metadata": {},
   "outputs": [
    {
     "data": {
      "text/plain": [
       "array([[ True, False, False],\n",
       "       [False,  True, False],\n",
       "       [False, False,  True]])"
      ]
     },
     "execution_count": 18,
     "metadata": {},
     "output_type": "execute_result"
    }
   ],
   "source": [
    "#(3,3) is matrix dimention\n",
    "np.fromfunction(lambda i , j : i==j , (3,3))"
   ]
  },
  {
   "cell_type": "code",
   "execution_count": 19,
   "id": "426e8085",
   "metadata": {},
   "outputs": [
    {
     "data": {
      "text/plain": [
       "array([[0, 0, 0, 0],\n",
       "       [0, 1, 2, 3],\n",
       "       [0, 2, 4, 6],\n",
       "       [0, 3, 6, 9]])"
      ]
     },
     "execution_count": 19,
     "metadata": {},
     "output_type": "execute_result"
    }
   ],
   "source": [
    "#dtype is use to keep output in integer\n",
    "np.fromfunction(lambda i,j:i*j,(4,4),dtype=int)"
   ]
  },
  {
   "cell_type": "code",
   "execution_count": 20,
   "id": "c0067202",
   "metadata": {},
   "outputs": [
    {
     "data": {
      "text/plain": [
       "matrix([[0., 0., 0., 0.],\n",
       "        [0., 1., 2., 3.],\n",
       "        [0., 2., 4., 6.],\n",
       "        [0., 3., 6., 9.]])"
      ]
     },
     "execution_count": 20,
     "metadata": {},
     "output_type": "execute_result"
    }
   ],
   "source": [
    "np.mat(np.fromfunction(lambda i,j:i*j,(4,4)))"
   ]
  },
  {
   "cell_type": "code",
   "execution_count": 21,
   "id": "d70a0c26",
   "metadata": {},
   "outputs": [
    {
     "data": {
      "text/plain": [
       "array([[[0, 0],\n",
       "        [0, 0],\n",
       "        [0, 0]],\n",
       "\n",
       "       [[0, 0],\n",
       "        [0, 1],\n",
       "        [0, 2]],\n",
       "\n",
       "       [[0, 0],\n",
       "        [0, 2],\n",
       "        [0, 4]]])"
      ]
     },
     "execution_count": 21,
     "metadata": {},
     "output_type": "execute_result"
    }
   ],
   "source": [
    "#3D array\n",
    "np.fromfunction(lambda i,j,z:i*j*z,(3,3,2),dtype=int)"
   ]
  },
  {
   "cell_type": "code",
   "execution_count": 22,
   "id": "4c5049ff",
   "metadata": {},
   "outputs": [
    {
     "data": {
      "text/plain": [
       "array([[[[ 0,  0],\n",
       "         [ 0,  0],\n",
       "         [ 0,  0]],\n",
       "\n",
       "        [[ 0,  0],\n",
       "         [ 0,  0],\n",
       "         [ 0,  0]],\n",
       "\n",
       "        [[ 0,  0],\n",
       "         [ 0,  0],\n",
       "         [ 0,  0]]],\n",
       "\n",
       "\n",
       "       [[[ 0,  0],\n",
       "         [ 0,  0],\n",
       "         [ 0,  0]],\n",
       "\n",
       "        [[ 0,  0],\n",
       "         [ 0,  1],\n",
       "         [ 0,  2]],\n",
       "\n",
       "        [[ 0,  0],\n",
       "         [ 0,  2],\n",
       "         [ 0,  4]]],\n",
       "\n",
       "\n",
       "       [[[ 0,  0],\n",
       "         [ 0,  0],\n",
       "         [ 0,  0]],\n",
       "\n",
       "        [[ 0,  0],\n",
       "         [ 0,  2],\n",
       "         [ 0,  4]],\n",
       "\n",
       "        [[ 0,  0],\n",
       "         [ 0,  4],\n",
       "         [ 0,  8]]],\n",
       "\n",
       "\n",
       "       [[[ 0,  0],\n",
       "         [ 0,  0],\n",
       "         [ 0,  0]],\n",
       "\n",
       "        [[ 0,  0],\n",
       "         [ 0,  3],\n",
       "         [ 0,  6]],\n",
       "\n",
       "        [[ 0,  0],\n",
       "         [ 0,  6],\n",
       "         [ 0, 12]]]])"
      ]
     },
     "execution_count": 22,
     "metadata": {},
     "output_type": "execute_result"
    }
   ],
   "source": [
    "#4D array\n",
    "np.fromfunction(lambda i,j,z,p:i*j*z*p,(4,3,3,2),dtype=int)"
   ]
  },
  {
   "cell_type": "code",
   "execution_count": 23,
   "id": "2209c17c",
   "metadata": {},
   "outputs": [
    {
     "data": {
      "text/plain": [
       "array([[[0, 0],\n",
       "        [0, 0],\n",
       "        [0, 0]],\n",
       "\n",
       "       [[0, 0],\n",
       "        [0, 1],\n",
       "        [0, 2]],\n",
       "\n",
       "       [[0, 0],\n",
       "        [0, 2],\n",
       "        [0, 4]],\n",
       "\n",
       "       [[0, 0],\n",
       "        [0, 3],\n",
       "        [0, 6]]])"
      ]
     },
     "execution_count": 23,
     "metadata": {},
     "output_type": "execute_result"
    }
   ],
   "source": [
    "a=np.fromfunction(lambda i,j,z:i*j*z,(4,3,2),dtype=int)\n",
    "a"
   ]
  },
  {
   "cell_type": "code",
   "execution_count": 24,
   "id": "c63c3817",
   "metadata": {},
   "outputs": [
    {
     "ename": "ValueError",
     "evalue": "cannot reshape array of size 24 into shape (5,4)",
     "output_type": "error",
     "traceback": [
      "\u001b[1;31m---------------------------------------------------------------------------\u001b[0m",
      "\u001b[1;31mValueError\u001b[0m                                Traceback (most recent call last)",
      "\u001b[1;32m~\\AppData\\Local\\Temp\\ipykernel_10800\\4275283908.py\u001b[0m in \u001b[0;36m<module>\u001b[1;34m\u001b[0m\n\u001b[0;32m      1\u001b[0m \u001b[1;31m#if we have 20 elements we should give comination of 20 elements in any  dimenstion\u001b[0m\u001b[1;33m\u001b[0m\u001b[1;33m\u001b[0m\u001b[0m\n\u001b[0;32m      2\u001b[0m \u001b[1;31m#can shape into any number of dimention\u001b[0m\u001b[1;33m\u001b[0m\u001b[1;33m\u001b[0m\u001b[0m\n\u001b[1;32m----> 3\u001b[1;33m \u001b[0ma\u001b[0m\u001b[1;33m.\u001b[0m\u001b[0mreshape\u001b[0m\u001b[1;33m(\u001b[0m\u001b[1;36m5\u001b[0m\u001b[1;33m,\u001b[0m\u001b[1;36m4\u001b[0m\u001b[1;33m)\u001b[0m\u001b[1;33m\u001b[0m\u001b[1;33m\u001b[0m\u001b[0m\n\u001b[0m",
      "\u001b[1;31mValueError\u001b[0m: cannot reshape array of size 24 into shape (5,4)"
     ]
    }
   ],
   "source": [
    "#if we have 20 elements we should give comination of 20 elements in any  dimenstion\n",
    "#can shape into any number of dimention\n",
    "a.reshape(5,4)"
   ]
  },
  {
   "cell_type": "code",
   "execution_count": 25,
   "id": "91da05f9",
   "metadata": {},
   "outputs": [
    {
     "ename": "ValueError",
     "evalue": "cannot reshape array of size 24 into shape (2,2,5)",
     "output_type": "error",
     "traceback": [
      "\u001b[1;31m---------------------------------------------------------------------------\u001b[0m",
      "\u001b[1;31mValueError\u001b[0m                                Traceback (most recent call last)",
      "\u001b[1;32m~\\AppData\\Local\\Temp\\ipykernel_10800\\1543763912.py\u001b[0m in \u001b[0;36m<module>\u001b[1;34m\u001b[0m\n\u001b[1;32m----> 1\u001b[1;33m \u001b[0ma\u001b[0m\u001b[1;33m.\u001b[0m\u001b[0mreshape\u001b[0m\u001b[1;33m(\u001b[0m\u001b[1;36m2\u001b[0m\u001b[1;33m,\u001b[0m\u001b[1;36m2\u001b[0m\u001b[1;33m,\u001b[0m\u001b[1;36m5\u001b[0m\u001b[1;33m)\u001b[0m\u001b[1;33m\u001b[0m\u001b[1;33m\u001b[0m\u001b[0m\n\u001b[0m",
      "\u001b[1;31mValueError\u001b[0m: cannot reshape array of size 24 into shape (2,2,5)"
     ]
    }
   ],
   "source": [
    "a.reshape(2,2,5)"
   ]
  },
  {
   "cell_type": "code",
   "execution_count": 26,
   "id": "96c93f0f",
   "metadata": {},
   "outputs": [
    {
     "data": {
      "text/plain": [
       "array([[0, 0, 0, 0, 0, 0, 0, 0, 0, 1, 0, 2],\n",
       "       [0, 0, 0, 2, 0, 4, 0, 0, 0, 3, 0, 6]])"
      ]
     },
     "execution_count": 26,
     "metadata": {},
     "output_type": "execute_result"
    }
   ],
   "source": [
    "a.reshape(2,-1)"
   ]
  },
  {
   "cell_type": "code",
   "execution_count": 27,
   "id": "0910cec9",
   "metadata": {},
   "outputs": [
    {
     "data": {
      "text/plain": [
       "3"
      ]
     },
     "execution_count": 27,
     "metadata": {},
     "output_type": "execute_result"
    }
   ],
   "source": [
    "a.ndim"
   ]
  },
  {
   "cell_type": "code",
   "execution_count": 28,
   "id": "42142830",
   "metadata": {},
   "outputs": [
    {
     "data": {
      "text/plain": [
       "24"
      ]
     },
     "execution_count": 28,
     "metadata": {},
     "output_type": "execute_result"
    }
   ],
   "source": [
    "a.size"
   ]
  },
  {
   "cell_type": "code",
   "execution_count": 29,
   "id": "e135d8d8",
   "metadata": {},
   "outputs": [
    {
     "data": {
      "text/plain": [
       "(4, 3, 2)"
      ]
     },
     "execution_count": 29,
     "metadata": {},
     "output_type": "execute_result"
    }
   ],
   "source": [
    "a.shape"
   ]
  },
  {
   "cell_type": "code",
   "execution_count": 30,
   "id": "2186afb9",
   "metadata": {},
   "outputs": [
    {
     "data": {
      "text/plain": [
       "dtype('int32')"
      ]
     },
     "execution_count": 30,
     "metadata": {},
     "output_type": "execute_result"
    }
   ],
   "source": [
    "a.dtype"
   ]
  },
  {
   "cell_type": "code",
   "execution_count": 31,
   "id": "2316a733",
   "metadata": {},
   "outputs": [
    {
     "ename": "ValueError",
     "evalue": "Must pass 2-d input. shape=(4, 3, 2)",
     "output_type": "error",
     "traceback": [
      "\u001b[1;31m---------------------------------------------------------------------------\u001b[0m",
      "\u001b[1;31mValueError\u001b[0m                                Traceback (most recent call last)",
      "\u001b[1;32m~\\AppData\\Local\\Temp\\ipykernel_10800\\2812285440.py\u001b[0m in \u001b[0;36m<module>\u001b[1;34m\u001b[0m\n\u001b[0;32m      2\u001b[0m \u001b[1;31m#as dtat frame is 2D\u001b[0m\u001b[1;33m\u001b[0m\u001b[1;33m\u001b[0m\u001b[0m\n\u001b[0;32m      3\u001b[0m \u001b[1;32mimport\u001b[0m \u001b[0mpandas\u001b[0m \u001b[1;32mas\u001b[0m \u001b[0mpd\u001b[0m\u001b[1;33m\u001b[0m\u001b[1;33m\u001b[0m\u001b[0m\n\u001b[1;32m----> 4\u001b[1;33m \u001b[0mpd\u001b[0m\u001b[1;33m.\u001b[0m\u001b[0mDataFrame\u001b[0m\u001b[1;33m(\u001b[0m\u001b[0ma\u001b[0m\u001b[1;33m)\u001b[0m\u001b[1;33m\u001b[0m\u001b[1;33m\u001b[0m\u001b[0m\n\u001b[0m",
      "\u001b[1;32m~\\anaconda3\\lib\\site-packages\\pandas\\core\\frame.py\u001b[0m in \u001b[0;36m__init__\u001b[1;34m(self, data, index, columns, dtype, copy)\u001b[0m\n\u001b[0;32m    692\u001b[0m                 )\n\u001b[0;32m    693\u001b[0m             \u001b[1;32melse\u001b[0m\u001b[1;33m:\u001b[0m\u001b[1;33m\u001b[0m\u001b[1;33m\u001b[0m\u001b[0m\n\u001b[1;32m--> 694\u001b[1;33m                 mgr = ndarray_to_mgr(\n\u001b[0m\u001b[0;32m    695\u001b[0m                     \u001b[0mdata\u001b[0m\u001b[1;33m,\u001b[0m\u001b[1;33m\u001b[0m\u001b[1;33m\u001b[0m\u001b[0m\n\u001b[0;32m    696\u001b[0m                     \u001b[0mindex\u001b[0m\u001b[1;33m,\u001b[0m\u001b[1;33m\u001b[0m\u001b[1;33m\u001b[0m\u001b[0m\n",
      "\u001b[1;32m~\\anaconda3\\lib\\site-packages\\pandas\\core\\internals\\construction.py\u001b[0m in \u001b[0;36mndarray_to_mgr\u001b[1;34m(values, index, columns, dtype, copy, typ)\u001b[0m\n\u001b[0;32m    329\u001b[0m         \u001b[1;31m# by definition an array here\u001b[0m\u001b[1;33m\u001b[0m\u001b[1;33m\u001b[0m\u001b[0m\n\u001b[0;32m    330\u001b[0m         \u001b[1;31m# the dtypes will be coerced to a single dtype\u001b[0m\u001b[1;33m\u001b[0m\u001b[1;33m\u001b[0m\u001b[0m\n\u001b[1;32m--> 331\u001b[1;33m         \u001b[0mvalues\u001b[0m \u001b[1;33m=\u001b[0m \u001b[0m_prep_ndarray\u001b[0m\u001b[1;33m(\u001b[0m\u001b[0mvalues\u001b[0m\u001b[1;33m,\u001b[0m \u001b[0mcopy\u001b[0m\u001b[1;33m=\u001b[0m\u001b[0mcopy_on_sanitize\u001b[0m\u001b[1;33m)\u001b[0m\u001b[1;33m\u001b[0m\u001b[1;33m\u001b[0m\u001b[0m\n\u001b[0m\u001b[0;32m    332\u001b[0m \u001b[1;33m\u001b[0m\u001b[0m\n\u001b[0;32m    333\u001b[0m     \u001b[1;32mif\u001b[0m \u001b[0mdtype\u001b[0m \u001b[1;32mis\u001b[0m \u001b[1;32mnot\u001b[0m \u001b[1;32mNone\u001b[0m \u001b[1;32mand\u001b[0m \u001b[1;32mnot\u001b[0m \u001b[0mis_dtype_equal\u001b[0m\u001b[1;33m(\u001b[0m\u001b[0mvalues\u001b[0m\u001b[1;33m.\u001b[0m\u001b[0mdtype\u001b[0m\u001b[1;33m,\u001b[0m \u001b[0mdtype\u001b[0m\u001b[1;33m)\u001b[0m\u001b[1;33m:\u001b[0m\u001b[1;33m\u001b[0m\u001b[1;33m\u001b[0m\u001b[0m\n",
      "\u001b[1;32m~\\anaconda3\\lib\\site-packages\\pandas\\core\\internals\\construction.py\u001b[0m in \u001b[0;36m_prep_ndarray\u001b[1;34m(values, copy)\u001b[0m\n\u001b[0;32m    589\u001b[0m         \u001b[0mvalues\u001b[0m \u001b[1;33m=\u001b[0m \u001b[0mvalues\u001b[0m\u001b[1;33m.\u001b[0m\u001b[0mreshape\u001b[0m\u001b[1;33m(\u001b[0m\u001b[1;33m(\u001b[0m\u001b[0mvalues\u001b[0m\u001b[1;33m.\u001b[0m\u001b[0mshape\u001b[0m\u001b[1;33m[\u001b[0m\u001b[1;36m0\u001b[0m\u001b[1;33m]\u001b[0m\u001b[1;33m,\u001b[0m \u001b[1;36m1\u001b[0m\u001b[1;33m)\u001b[0m\u001b[1;33m)\u001b[0m\u001b[1;33m\u001b[0m\u001b[1;33m\u001b[0m\u001b[0m\n\u001b[0;32m    590\u001b[0m     \u001b[1;32melif\u001b[0m \u001b[0mvalues\u001b[0m\u001b[1;33m.\u001b[0m\u001b[0mndim\u001b[0m \u001b[1;33m!=\u001b[0m \u001b[1;36m2\u001b[0m\u001b[1;33m:\u001b[0m\u001b[1;33m\u001b[0m\u001b[1;33m\u001b[0m\u001b[0m\n\u001b[1;32m--> 591\u001b[1;33m         \u001b[1;32mraise\u001b[0m \u001b[0mValueError\u001b[0m\u001b[1;33m(\u001b[0m\u001b[1;34mf\"Must pass 2-d input. shape={values.shape}\"\u001b[0m\u001b[1;33m)\u001b[0m\u001b[1;33m\u001b[0m\u001b[1;33m\u001b[0m\u001b[0m\n\u001b[0m\u001b[0;32m    592\u001b[0m \u001b[1;33m\u001b[0m\u001b[0m\n\u001b[0;32m    593\u001b[0m     \u001b[1;32mreturn\u001b[0m \u001b[0mvalues\u001b[0m\u001b[1;33m\u001b[0m\u001b[1;33m\u001b[0m\u001b[0m\n",
      "\u001b[1;31mValueError\u001b[0m: Must pass 2-d input. shape=(4, 3, 2)"
     ]
    }
   ],
   "source": [
    "#we cannot convert 3D array into dataframe\n",
    "#as dtat frame is 2D\n",
    "import pandas as pd\n",
    "pd.DataFrame(a)"
   ]
  },
  {
   "cell_type": "code",
   "execution_count": null,
   "id": "e8ff14f1",
   "metadata": {},
   "outputs": [],
   "source": [
    "a=np.fromfunction(lambda i,j:i*j,(400,300),dtype=int)\n",
    "a"
   ]
  },
  {
   "cell_type": "code",
   "execution_count": null,
   "id": "34546a74",
   "metadata": {},
   "outputs": [],
   "source": [
    "pd.DataFrame(a)"
   ]
  },
  {
   "cell_type": "code",
   "execution_count": 32,
   "id": "d22aa9e4",
   "metadata": {},
   "outputs": [
    {
     "data": {
      "text/plain": [
       "array([[0.31004043, 0.42133196, 0.8009448 , 0.38364941],\n",
       "       [0.08562313, 0.45337647, 0.86047431, 0.38860559],\n",
       "       [0.92190611, 0.90129804, 0.9054931 , 0.7134437 ],\n",
       "       [0.49744166, 0.19113432, 0.0779826 , 0.09808641],\n",
       "       [0.27701854, 0.65216688, 0.48508579, 0.58043871],\n",
       "       [0.62460357, 0.81714115, 0.62381249, 0.58802343],\n",
       "       [0.17307145, 0.29426523, 0.12584548, 0.53652301],\n",
       "       [0.22126464, 0.07071145, 0.88597089, 0.4056147 ],\n",
       "       [0.13962658, 0.78715742, 0.62894881, 0.5730845 ],\n",
       "       [0.70117105, 0.71604344, 0.13345265, 0.37680297],\n",
       "       [0.0383642 , 0.98768406, 0.53421041, 0.64920569],\n",
       "       [0.57223127, 0.21415401, 0.32804975, 0.16605899],\n",
       "       [0.55551614, 0.22044623, 0.52128771, 0.32721285],\n",
       "       [0.89265983, 0.50603116, 0.15216546, 0.90837328],\n",
       "       [0.46120161, 0.96004495, 0.6488413 , 0.87052762],\n",
       "       [0.99784608, 0.43568624, 0.25116891, 0.49496268],\n",
       "       [0.98458078, 0.81795336, 0.93264276, 0.79164016],\n",
       "       [0.15091555, 0.77154019, 0.97059662, 0.02284288],\n",
       "       [0.1711752 , 0.52227202, 0.35798717, 0.08112949],\n",
       "       [0.83416211, 0.68283234, 0.80372991, 0.68045086],\n",
       "       [0.46590505, 0.55562583, 0.34164907, 0.23182228],\n",
       "       [0.0583543 , 0.50629974, 0.78598928, 0.77742292],\n",
       "       [0.61479603, 0.71587154, 0.99490018, 0.13670923],\n",
       "       [0.79219629, 0.56170138, 0.18389543, 0.03447351],\n",
       "       [0.27698687, 0.95051602, 0.67680412, 0.02726825],\n",
       "       [0.80764672, 0.54063574, 0.93807029, 0.47308443],\n",
       "       [0.49005192, 0.33782323, 0.12100937, 0.45394647],\n",
       "       [0.06452035, 0.06101222, 0.38048417, 0.27583426],\n",
       "       [0.89269844, 0.45393904, 0.8192312 , 0.40532099],\n",
       "       [0.21334831, 0.71720049, 0.54836534, 0.80151471],\n",
       "       [0.47071238, 0.89145942, 0.39459549, 0.87939719],\n",
       "       [0.58544629, 0.88062045, 0.31378469, 0.24271827],\n",
       "       [0.4322773 , 0.58788812, 0.24790191, 0.87567929],\n",
       "       [0.05100508, 0.86674251, 0.24416601, 0.87220116],\n",
       "       [0.58786436, 0.11519342, 0.5172119 , 0.39950336],\n",
       "       [0.87297883, 0.83343599, 0.09096131, 0.36544356],\n",
       "       [0.61312689, 0.87326282, 0.68578225, 0.08990607],\n",
       "       [0.03480138, 0.59089927, 0.1547541 , 0.76847928],\n",
       "       [0.43095908, 0.71246253, 0.2129512 , 0.51197575],\n",
       "       [0.2494331 , 0.19834565, 0.11916691, 0.11923433],\n",
       "       [0.5409534 , 0.4173492 , 0.43365677, 0.80349678],\n",
       "       [0.5037995 , 0.13030446, 0.3066967 , 0.06110071],\n",
       "       [0.94092767, 0.98513759, 0.79587521, 0.1245758 ],\n",
       "       [0.29109294, 0.98721961, 0.12651787, 0.31246501],\n",
       "       [0.30835425, 0.1531871 , 0.34112134, 0.81303677],\n",
       "       [0.28846297, 0.14190655, 0.35492988, 0.83632465],\n",
       "       [0.09466583, 0.01898074, 0.46049102, 0.5865684 ],\n",
       "       [0.87363292, 0.75143112, 0.64050764, 0.14781   ],\n",
       "       [0.17726858, 0.57570785, 0.27204138, 0.65570813],\n",
       "       [0.03648443, 0.16045885, 0.80335609, 0.17917144],\n",
       "       [0.58814573, 0.19850359, 0.34156001, 0.65388379],\n",
       "       [0.129322  , 0.74199213, 0.24352539, 0.93554398],\n",
       "       [0.15059367, 0.69606465, 0.01120544, 0.09491296],\n",
       "       [0.90626573, 0.2536025 , 0.4849219 , 0.35021172],\n",
       "       [0.43355976, 0.78785261, 0.13929092, 0.49122006],\n",
       "       [0.15666473, 0.18941346, 0.58470654, 0.43300478],\n",
       "       [0.47596788, 0.77597052, 0.5895044 , 0.89390487],\n",
       "       [0.08870042, 0.73806663, 0.50622405, 0.38199621],\n",
       "       [0.45672383, 0.27296321, 0.74407107, 0.86143315],\n",
       "       [0.79083294, 0.1760891 , 0.86127501, 0.23524929],\n",
       "       [0.36781969, 0.5290298 , 0.84865338, 0.06599087],\n",
       "       [0.69695541, 0.24842985, 0.17270064, 0.35037312],\n",
       "       [0.89785102, 0.79618196, 0.86512935, 0.09166836],\n",
       "       [0.56376605, 0.96911959, 0.23034705, 0.70034676],\n",
       "       [0.44256496, 0.98049486, 0.05634679, 0.96698473],\n",
       "       [0.17226673, 0.04443549, 0.99963745, 0.27429085],\n",
       "       [0.41734265, 0.64887807, 0.50763992, 0.0846837 ],\n",
       "       [0.70887996, 0.70197189, 0.61213795, 0.19221706],\n",
       "       [0.41339446, 0.88782631, 0.32902756, 0.94515667],\n",
       "       [0.64540522, 0.93867222, 0.40135767, 0.14781672],\n",
       "       [0.44442801, 0.25795891, 0.66426872, 0.61904387],\n",
       "       [0.42488755, 0.58589202, 0.45775122, 0.41659643],\n",
       "       [0.70670904, 0.37999729, 0.3567817 , 0.22849425],\n",
       "       [0.72583393, 0.55189079, 0.83962355, 0.55032198],\n",
       "       [0.59021669, 0.0257702 , 0.80190815, 0.31400997],\n",
       "       [0.36698761, 0.99958896, 0.44146756, 0.55997054],\n",
       "       [0.35605419, 0.45363264, 0.95234773, 0.09091176],\n",
       "       [0.29838707, 0.12101087, 0.3633676 , 0.24053031],\n",
       "       [0.31775231, 0.56438023, 0.17853891, 0.89706693],\n",
       "       [0.24019806, 0.89003805, 0.19268551, 0.64855733],\n",
       "       [0.87364694, 0.39495839, 0.80627245, 0.98668456],\n",
       "       [0.11851375, 0.55875639, 0.87645082, 0.41126358],\n",
       "       [0.01531391, 0.73525164, 0.0566009 , 0.59937292],\n",
       "       [0.31197378, 0.69863262, 0.82688071, 0.03995946],\n",
       "       [0.1552658 , 0.79020661, 0.5492027 , 0.52075107],\n",
       "       [0.9974288 , 0.00257865, 0.58508531, 0.79322427],\n",
       "       [0.25972659, 0.25115967, 0.43454425, 0.64600655],\n",
       "       [0.14183411, 0.99009858, 0.47405964, 0.10039288],\n",
       "       [0.74641036, 0.74324961, 0.30868226, 0.67313456],\n",
       "       [0.20829321, 0.22765364, 0.72393509, 0.80113595],\n",
       "       [0.32188903, 0.48459213, 0.36182055, 0.0268085 ],\n",
       "       [0.73763869, 0.97998748, 0.494197  , 0.56724796],\n",
       "       [0.1990584 , 0.17251635, 0.76692212, 0.73678932],\n",
       "       [0.82166452, 0.49105454, 0.51846483, 0.7363854 ],\n",
       "       [0.19504819, 0.94358315, 0.38862484, 0.16785562],\n",
       "       [0.28396485, 0.29905408, 0.89103087, 0.99226502],\n",
       "       [0.02060963, 0.40284244, 0.32135309, 0.12785589],\n",
       "       [0.24660018, 0.31088133, 0.76948288, 0.4637356 ],\n",
       "       [0.15980259, 0.6604889 , 0.32651893, 0.16666264],\n",
       "       [0.16827356, 0.26534192, 0.33234256, 0.54649753]])"
      ]
     },
     "execution_count": 32,
     "metadata": {},
     "output_type": "execute_result"
    }
   ],
   "source": [
    "np.random.rand(100,4)"
   ]
  },
  {
   "cell_type": "code",
   "execution_count": 33,
   "id": "d108f8dc",
   "metadata": {},
   "outputs": [
    {
     "data": {
      "text/plain": [
       "7"
      ]
     },
     "execution_count": 33,
     "metadata": {},
     "output_type": "execute_result"
    }
   ],
   "source": [
    "np.random.randint(4,50)"
   ]
  },
  {
   "cell_type": "code",
   "execution_count": 34,
   "id": "4d87b850",
   "metadata": {},
   "outputs": [],
   "source": [
    "#normal distributed numbers mean=0,SD=1\n",
    "a=np.random.randn(4,5)"
   ]
  },
  {
   "cell_type": "code",
   "execution_count": 35,
   "id": "be68a74a",
   "metadata": {},
   "outputs": [
    {
     "data": {
      "text/html": [
       "<div>\n",
       "<style scoped>\n",
       "    .dataframe tbody tr th:only-of-type {\n",
       "        vertical-align: middle;\n",
       "    }\n",
       "\n",
       "    .dataframe tbody tr th {\n",
       "        vertical-align: top;\n",
       "    }\n",
       "\n",
       "    .dataframe thead th {\n",
       "        text-align: right;\n",
       "    }\n",
       "</style>\n",
       "<table border=\"1\" class=\"dataframe\">\n",
       "  <thead>\n",
       "    <tr style=\"text-align: right;\">\n",
       "      <th></th>\n",
       "      <th>0</th>\n",
       "      <th>1</th>\n",
       "      <th>2</th>\n",
       "      <th>3</th>\n",
       "      <th>4</th>\n",
       "    </tr>\n",
       "  </thead>\n",
       "  <tbody>\n",
       "    <tr>\n",
       "      <th>0</th>\n",
       "      <td>-1.075094</td>\n",
       "      <td>-1.400885</td>\n",
       "      <td>-0.011837</td>\n",
       "      <td>1.063755</td>\n",
       "      <td>-1.021107</td>\n",
       "    </tr>\n",
       "    <tr>\n",
       "      <th>1</th>\n",
       "      <td>0.181120</td>\n",
       "      <td>-0.163935</td>\n",
       "      <td>-1.646428</td>\n",
       "      <td>-2.090370</td>\n",
       "      <td>0.343551</td>\n",
       "    </tr>\n",
       "    <tr>\n",
       "      <th>2</th>\n",
       "      <td>-1.598295</td>\n",
       "      <td>0.086412</td>\n",
       "      <td>-2.016754</td>\n",
       "      <td>0.048739</td>\n",
       "      <td>0.010811</td>\n",
       "    </tr>\n",
       "    <tr>\n",
       "      <th>3</th>\n",
       "      <td>0.452609</td>\n",
       "      <td>0.829506</td>\n",
       "      <td>-0.847744</td>\n",
       "      <td>-0.198040</td>\n",
       "      <td>-0.417424</td>\n",
       "    </tr>\n",
       "  </tbody>\n",
       "</table>\n",
       "</div>"
      ],
      "text/plain": [
       "          0         1         2         3         4\n",
       "0 -1.075094 -1.400885 -0.011837  1.063755 -1.021107\n",
       "1  0.181120 -0.163935 -1.646428 -2.090370  0.343551\n",
       "2 -1.598295  0.086412 -2.016754  0.048739  0.010811\n",
       "3  0.452609  0.829506 -0.847744 -0.198040 -0.417424"
      ]
     },
     "execution_count": 35,
     "metadata": {},
     "output_type": "execute_result"
    }
   ],
   "source": [
    "pd.DataFrame(a)"
   ]
  },
  {
   "cell_type": "code",
   "execution_count": 36,
   "id": "48d75128",
   "metadata": {},
   "outputs": [
    {
     "data": {
      "text/plain": [
       "[4, 6, 8]"
      ]
     },
     "execution_count": 36,
     "metadata": {},
     "output_type": "execute_result"
    }
   ],
   "source": [
    "#range only works for integer\n",
    "list(range(4,10,2))"
   ]
  },
  {
   "cell_type": "code",
   "execution_count": 37,
   "id": "e2b8e440",
   "metadata": {},
   "outputs": [
    {
     "data": {
      "text/plain": [
       "array([4. , 4.2, 4.4, 4.6, 4.8, 5. , 5.2, 5.4, 5.6, 5.8, 6. , 6.2, 6.4,\n",
       "       6.6, 6.8, 7. , 7.2, 7.4, 7.6, 7.8, 8. , 8.2, 8.4, 8.6, 8.8, 9. ,\n",
       "       9.2, 9.4, 9.6, 9.8])"
      ]
     },
     "execution_count": 37,
     "metadata": {},
     "output_type": "execute_result"
    }
   ],
   "source": [
    "#range only works for integer&float(decimal)\n",
    "a1=np.arange(4,10,.2)\n",
    "a1"
   ]
  },
  {
   "cell_type": "code",
   "execution_count": 38,
   "id": "234df1aa",
   "metadata": {},
   "outputs": [
    {
     "data": {
      "text/plain": [
       "array([4.2, 4.4, 4.6])"
      ]
     },
     "execution_count": 38,
     "metadata": {},
     "output_type": "execute_result"
    }
   ],
   "source": [
    "a1[1:4]"
   ]
  },
  {
   "cell_type": "code",
   "execution_count": 39,
   "id": "701d5d05",
   "metadata": {},
   "outputs": [
    {
     "data": {
      "text/plain": [
       "array([[0.7218442 , 0.76376276, 0.03607422, 0.90638597, 0.55986483],\n",
       "       [0.19412221, 0.3273193 , 0.58020536, 0.4308775 , 0.57716624],\n",
       "       [0.97641465, 0.25942109, 0.31001191, 0.09801385, 0.0481654 ],\n",
       "       [0.69677345, 0.97785418, 0.17063821, 0.82744112, 0.23193895]])"
      ]
     },
     "execution_count": 39,
     "metadata": {},
     "output_type": "execute_result"
    }
   ],
   "source": [
    "arr=np.random.rand(4,5)\n",
    "arr"
   ]
  },
  {
   "cell_type": "code",
   "execution_count": 40,
   "id": "7e6e8a5f",
   "metadata": {},
   "outputs": [
    {
     "data": {
      "text/plain": [
       "array([0.7218442 , 0.76376276, 0.90638597, 0.55986483, 0.58020536,\n",
       "       0.57716624, 0.97641465, 0.69677345, 0.97785418, 0.82744112])"
      ]
     },
     "execution_count": 40,
     "metadata": {},
     "output_type": "execute_result"
    }
   ],
   "source": [
    "arr[arr>.5]"
   ]
  },
  {
   "cell_type": "code",
   "execution_count": 41,
   "id": "7c4d5c99",
   "metadata": {},
   "outputs": [
    {
     "data": {
      "text/plain": [
       "array([0.58020536, 0.31001191])"
      ]
     },
     "execution_count": 41,
     "metadata": {},
     "output_type": "execute_result"
    }
   ],
   "source": [
    "arr[(1,2),(2)]"
   ]
  },
  {
   "cell_type": "code",
   "execution_count": 42,
   "id": "8abba012",
   "metadata": {},
   "outputs": [
    {
     "data": {
      "text/plain": [
       "array([[0.30907166, 0.89272851, 0.38100668, 0.47941178, 0.53596795],\n",
       "       [0.49996833, 0.11392329, 0.67843279, 0.70971127, 0.18066094],\n",
       "       [0.0858335 , 0.22593622, 0.86568797, 0.61372551, 0.47122908],\n",
       "       [0.58969753, 0.69771053, 0.99495924, 0.60677173, 0.84381824],\n",
       "       [0.22485736, 0.92504656, 0.31210997, 0.48365456, 0.02792863],\n",
       "       [0.70911734, 0.87179021, 0.95532044, 0.68992205, 0.63128738],\n",
       "       [0.62863254, 0.4756597 , 0.81272195, 0.44048402, 0.22783024],\n",
       "       [0.50491141, 0.1760515 , 0.66911708, 0.98116996, 0.0647006 ]])"
      ]
     },
     "execution_count": 42,
     "metadata": {},
     "output_type": "execute_result"
    }
   ],
   "source": [
    "arr=np.random.rand(8,5)\n",
    "arr"
   ]
  },
  {
   "cell_type": "code",
   "execution_count": 43,
   "id": "fa2a1027",
   "metadata": {},
   "outputs": [
    {
     "data": {
      "text/plain": [
       "array([[0.49996833, 0.11392329, 0.67843279],\n",
       "       [0.0858335 , 0.22593622, 0.86568797],\n",
       "       [0.58969753, 0.69771053, 0.99495924],\n",
       "       [0.22485736, 0.92504656, 0.31210997],\n",
       "       [0.70911734, 0.87179021, 0.95532044],\n",
       "       [0.62863254, 0.4756597 , 0.81272195],\n",
       "       [0.50491141, 0.1760515 , 0.66911708]])"
      ]
     },
     "execution_count": 43,
     "metadata": {},
     "output_type": "execute_result"
    }
   ],
   "source": [
    "arr[1:8,0:3]"
   ]
  },
  {
   "cell_type": "code",
   "execution_count": 44,
   "id": "ff5a1411",
   "metadata": {},
   "outputs": [
    {
     "data": {
      "text/plain": [
       "array([[0.49996833, 0.11392329, 0.67843279],\n",
       "       [0.0858335 , 0.22593622, 0.86568797],\n",
       "       [0.58969753, 0.69771053, 0.99495924],\n",
       "       [0.22485736, 0.92504656, 0.31210997],\n",
       "       [0.70911734, 0.87179021, 0.95532044],\n",
       "       [0.62863254, 0.4756597 , 0.81272195],\n",
       "       [0.50491141, 0.1760515 , 0.66911708]])"
      ]
     },
     "execution_count": 44,
     "metadata": {},
     "output_type": "execute_result"
    }
   ],
   "source": [
    "a2=arr[1:8,[0,1,2]]\n",
    "a2"
   ]
  },
  {
   "cell_type": "code",
   "execution_count": 45,
   "id": "70d71a82",
   "metadata": {},
   "outputs": [
    {
     "data": {
      "text/plain": [
       "array([[1.00000000e+02, 1.13923295e-01, 6.78432791e-01],\n",
       "       [8.58335000e-02, 2.25936219e-01, 8.65687968e-01],\n",
       "       [5.89697532e-01, 6.97710526e-01, 9.94959244e-01],\n",
       "       [2.24857358e-01, 9.25046559e-01, 3.12109965e-01],\n",
       "       [7.09117343e-01, 8.71790206e-01, 9.55320435e-01],\n",
       "       [6.28632542e-01, 4.75659697e-01, 8.12721952e-01],\n",
       "       [5.04911414e-01, 1.76051501e-01, 6.69117076e-01]])"
      ]
     },
     "execution_count": 45,
     "metadata": {},
     "output_type": "execute_result"
    }
   ],
   "source": [
    "a2[0][0]=100\n",
    "a2"
   ]
  },
  {
   "cell_type": "code",
   "execution_count": 46,
   "id": "5ec3931e",
   "metadata": {},
   "outputs": [],
   "source": [
    "a=np.array([[1,2],[3,4]])\n",
    "b=np.array([[2,3],[4,5]])"
   ]
  },
  {
   "cell_type": "code",
   "execution_count": 47,
   "id": "af4978a4",
   "metadata": {},
   "outputs": [
    {
     "data": {
      "text/plain": [
       "array([[1, 2],\n",
       "       [3, 4]])"
      ]
     },
     "execution_count": 47,
     "metadata": {},
     "output_type": "execute_result"
    }
   ],
   "source": [
    "a"
   ]
  },
  {
   "cell_type": "code",
   "execution_count": 48,
   "id": "07f3be1b",
   "metadata": {},
   "outputs": [
    {
     "data": {
      "text/plain": [
       "array([[2, 3],\n",
       "       [4, 5]])"
      ]
     },
     "execution_count": 48,
     "metadata": {},
     "output_type": "execute_result"
    }
   ],
   "source": [
    "b"
   ]
  },
  {
   "cell_type": "code",
   "execution_count": 49,
   "id": "870cdd4f",
   "metadata": {},
   "outputs": [
    {
     "data": {
      "text/plain": [
       "array([[ 2,  6],\n",
       "       [12, 20]])"
      ]
     },
     "execution_count": 49,
     "metadata": {},
     "output_type": "execute_result"
    }
   ],
   "source": [
    "a*b"
   ]
  },
  {
   "cell_type": "code",
   "execution_count": 50,
   "id": "071358ee",
   "metadata": {},
   "outputs": [
    {
     "data": {
      "text/plain": [
       "array([[10, 13],\n",
       "       [22, 29]])"
      ]
     },
     "execution_count": 50,
     "metadata": {},
     "output_type": "execute_result"
    }
   ],
   "source": [
    "# '@' is matrix multiplication function\n",
    "m=a@b\n",
    "m"
   ]
  },
  {
   "cell_type": "code",
   "execution_count": 51,
   "id": "108f83ae",
   "metadata": {},
   "outputs": [
    {
     "name": "stderr",
     "output_type": "stream",
     "text": [
      "C:\\Users\\harsh\\AppData\\Local\\Temp\\ipykernel_10800\\3791875896.py:1: RuntimeWarning: divide by zero encountered in true_divide\n",
      "  m/0\n"
     ]
    },
    {
     "data": {
      "text/plain": [
       "array([[inf, inf],\n",
       "       [inf, inf]])"
      ]
     },
     "execution_count": 51,
     "metadata": {},
     "output_type": "execute_result"
    }
   ],
   "source": [
    "m/0"
   ]
  },
  {
   "cell_type": "code",
   "execution_count": 52,
   "id": "31bf817f",
   "metadata": {},
   "outputs": [
    {
     "data": {
      "text/plain": [
       "array([21,  2,  3,  4, 54])"
      ]
     },
     "execution_count": 52,
     "metadata": {},
     "output_type": "execute_result"
    }
   ],
   "source": [
    "l=[21,2,3,4,54]\n",
    "np.asarray(l)"
   ]
  },
  {
   "cell_type": "code",
   "execution_count": 53,
   "id": "9e445463",
   "metadata": {},
   "outputs": [
    {
     "data": {
      "text/plain": [
       "array([0., 0., 0., 0., 0.])"
      ]
     },
     "execution_count": 53,
     "metadata": {},
     "output_type": "execute_result"
    }
   ],
   "source": [
    "np.zeros(5)"
   ]
  },
  {
   "cell_type": "code",
   "execution_count": 54,
   "id": "6aa5fa84",
   "metadata": {},
   "outputs": [
    {
     "data": {
      "text/plain": [
       "array([[0., 0., 0., 0.],\n",
       "       [0., 0., 0., 0.],\n",
       "       [0., 0., 0., 0.]])"
      ]
     },
     "execution_count": 54,
     "metadata": {},
     "output_type": "execute_result"
    }
   ],
   "source": [
    "np.zeros((3,4))"
   ]
  },
  {
   "cell_type": "code",
   "execution_count": 55,
   "id": "bc2c673b",
   "metadata": {},
   "outputs": [
    {
     "data": {
      "text/plain": [
       "array([[[0., 0., 0., 0., 0.],\n",
       "        [0., 0., 0., 0., 0.],\n",
       "        [0., 0., 0., 0., 0.],\n",
       "        [0., 0., 0., 0., 0.]],\n",
       "\n",
       "       [[0., 0., 0., 0., 0.],\n",
       "        [0., 0., 0., 0., 0.],\n",
       "        [0., 0., 0., 0., 0.],\n",
       "        [0., 0., 0., 0., 0.]],\n",
       "\n",
       "       [[0., 0., 0., 0., 0.],\n",
       "        [0., 0., 0., 0., 0.],\n",
       "        [0., 0., 0., 0., 0.],\n",
       "        [0., 0., 0., 0., 0.]]])"
      ]
     },
     "execution_count": 55,
     "metadata": {},
     "output_type": "execute_result"
    }
   ],
   "source": [
    "np.zeros((3,4,5))"
   ]
  },
  {
   "cell_type": "code",
   "execution_count": 56,
   "id": "2b77a204",
   "metadata": {},
   "outputs": [
    {
     "data": {
      "text/plain": [
       "array([1., 1., 1., 1., 1.])"
      ]
     },
     "execution_count": 56,
     "metadata": {},
     "output_type": "execute_result"
    }
   ],
   "source": [
    "np.ones(5)"
   ]
  },
  {
   "cell_type": "code",
   "execution_count": 57,
   "id": "92a497e0",
   "metadata": {},
   "outputs": [
    {
     "data": {
      "text/plain": [
       "array([[[1., 1.],\n",
       "        [1., 1.],\n",
       "        [1., 1.],\n",
       "        [1., 1.],\n",
       "        [1., 1.],\n",
       "        [1., 1.]],\n",
       "\n",
       "       [[1., 1.],\n",
       "        [1., 1.],\n",
       "        [1., 1.],\n",
       "        [1., 1.],\n",
       "        [1., 1.],\n",
       "        [1., 1.]],\n",
       "\n",
       "       [[1., 1.],\n",
       "        [1., 1.],\n",
       "        [1., 1.],\n",
       "        [1., 1.],\n",
       "        [1., 1.],\n",
       "        [1., 1.]]])"
      ]
     },
     "execution_count": 57,
     "metadata": {},
     "output_type": "execute_result"
    }
   ],
   "source": [
    "np.ones((3,6,2))"
   ]
  },
  {
   "cell_type": "code",
   "execution_count": 58,
   "id": "894d0cae",
   "metadata": {},
   "outputs": [
    {
     "data": {
      "text/plain": [
       "array([[[6., 6.],\n",
       "        [6., 6.],\n",
       "        [6., 6.],\n",
       "        [6., 6.],\n",
       "        [6., 6.],\n",
       "        [6., 6.]],\n",
       "\n",
       "       [[6., 6.],\n",
       "        [6., 6.],\n",
       "        [6., 6.],\n",
       "        [6., 6.],\n",
       "        [6., 6.],\n",
       "        [6., 6.]],\n",
       "\n",
       "       [[6., 6.],\n",
       "        [6., 6.],\n",
       "        [6., 6.],\n",
       "        [6., 6.],\n",
       "        [6., 6.],\n",
       "        [6., 6.]]])"
      ]
     },
     "execution_count": 58,
     "metadata": {},
     "output_type": "execute_result"
    }
   ],
   "source": [
    "#5 is the vector.vector as both magnitude and dimension\n",
    "#if we perform same kind of operation with all elements present in my space is called broadcasting\n",
    "#below is broadcasting operation\n",
    "5+np.ones((3,6,2))"
   ]
  },
  {
   "cell_type": "code",
   "execution_count": 59,
   "id": "01d3ac5e",
   "metadata": {},
   "outputs": [
    {
     "data": {
      "text/plain": [
       "array([[[0.30907166, 0.89272851],\n",
       "        [0.38100668, 0.47941178],\n",
       "        [0.53596795, 0.49996833],\n",
       "        [0.11392329, 0.67843279],\n",
       "        [0.70971127, 0.18066094]],\n",
       "\n",
       "       [[0.0858335 , 0.22593622],\n",
       "        [0.86568797, 0.61372551],\n",
       "        [0.47122908, 0.58969753],\n",
       "        [0.69771053, 0.99495924],\n",
       "        [0.60677173, 0.84381824]],\n",
       "\n",
       "       [[0.22485736, 0.92504656],\n",
       "        [0.31210997, 0.48365456],\n",
       "        [0.02792863, 0.70911734],\n",
       "        [0.87179021, 0.95532044],\n",
       "        [0.68992205, 0.63128738]],\n",
       "\n",
       "       [[0.62863254, 0.4756597 ],\n",
       "        [0.81272195, 0.44048402],\n",
       "        [0.22783024, 0.50491141],\n",
       "        [0.1760515 , 0.66911708],\n",
       "        [0.98116996, 0.0647006 ]]])"
      ]
     },
     "execution_count": 59,
     "metadata": {},
     "output_type": "execute_result"
    }
   ],
   "source": [
    "np.empty((4,5))\n",
    "np.empty((4,5,2))"
   ]
  },
  {
   "cell_type": "code",
   "execution_count": 60,
   "id": "99ea91bf",
   "metadata": {},
   "outputs": [
    {
     "data": {
      "text/plain": [
       "array([[2. , 2.2, 2.4, 2.6],\n",
       "       [2.8, 3. , 3.2, 3.4],\n",
       "       [3.6, 3.8, 4. , 4.2],\n",
       "       [4.4, 4.6, 4.8, 5. ],\n",
       "       [5.2, 5.4, 5.6, 5.8]])"
      ]
     },
     "execution_count": 60,
     "metadata": {},
     "output_type": "execute_result"
    }
   ],
   "source": [
    "#btw 2-6 20 number is generated\n",
    "#50 is default number\n",
    "#end point eliminate last value 6\n",
    "np.linspace(2,6,20,endpoint=False).reshape(5,4)"
   ]
  },
  {
   "cell_type": "code",
   "execution_count": 61,
   "id": "40cb6ace",
   "metadata": {},
   "outputs": [
    {
     "data": {
      "text/plain": [
       "(array([2. , 2.2, 2.4, 2.6, 2.8, 3. , 3.2, 3.4, 3.6, 3.8, 4. , 4.2, 4.4,\n",
       "        4.6, 4.8, 5. , 5.2, 5.4, 5.6, 5.8]),\n",
       " 0.2)"
      ]
     },
     "execution_count": 61,
     "metadata": {},
     "output_type": "execute_result"
    }
   ],
   "source": [
    "#.2 is step size\n",
    "np.linspace(2,6,20,endpoint=False,retstep=True)"
   ]
  },
  {
   "cell_type": "code",
   "execution_count": 62,
   "id": "e1a599db",
   "metadata": {},
   "outputs": [
    {
     "data": {
      "text/plain": [
       "array([ 4.        ,  4.66611616,  5.44316   ,  6.34960421,  7.4069977 ,\n",
       "        8.64047791, 10.0793684 , 11.75787594, 13.71590373, 16.        ])"
      ]
     },
     "execution_count": 62,
     "metadata": {},
     "output_type": "execute_result"
    }
   ],
   "source": [
    "np.logspace(2,4,10,base=2)"
   ]
  },
  {
   "cell_type": "code",
   "execution_count": 63,
   "id": "fa115a52",
   "metadata": {},
   "outputs": [
    {
     "data": {
      "text/plain": [
       "array([2.        , 2.22222222, 2.44444444, 2.66666667, 2.88888889,\n",
       "       3.11111111, 3.33333333, 3.55555556, 3.77777778, 4.        ])"
      ]
     },
     "execution_count": 63,
     "metadata": {},
     "output_type": "execute_result"
    }
   ],
   "source": [
    "np.linspace(2,4,10)"
   ]
  },
  {
   "cell_type": "code",
   "execution_count": 64,
   "id": "92293e61",
   "metadata": {},
   "outputs": [
    {
     "data": {
      "text/plain": [
       "array([[ 0,  1,  2,  3],\n",
       "       [ 4,  5,  6,  7],\n",
       "       [ 8,  9, 10, 11],\n",
       "       [12, 13, 14, 15]])"
      ]
     },
     "execution_count": 64,
     "metadata": {},
     "output_type": "execute_result"
    }
   ],
   "source": [
    "a=np.arange(16).reshape(4,4)\n",
    "a"
   ]
  },
  {
   "cell_type": "code",
   "execution_count": 65,
   "id": "43ad8f00",
   "metadata": {},
   "outputs": [
    {
     "data": {
      "text/plain": [
       "array([ 3,  7, 11, 15])"
      ]
     },
     "execution_count": 65,
     "metadata": {},
     "output_type": "execute_result"
    }
   ],
   "source": [
    "a.max(axis=1)"
   ]
  },
  {
   "cell_type": "code",
   "execution_count": 66,
   "id": "913bea92",
   "metadata": {},
   "outputs": [
    {
     "data": {
      "text/plain": [
       "array([12, 13, 14, 15])"
      ]
     },
     "execution_count": 66,
     "metadata": {},
     "output_type": "execute_result"
    }
   ],
   "source": [
    "a.max(axis=0)"
   ]
  },
  {
   "cell_type": "code",
   "execution_count": 67,
   "id": "ee95ff38",
   "metadata": {},
   "outputs": [
    {
     "data": {
      "text/plain": [
       "array([[10, 11, 12, 13],\n",
       "       [14, 15, 16, 17],\n",
       "       [18, 19, 20, 21],\n",
       "       [22, 23, 24, 25]])"
      ]
     },
     "execution_count": 67,
     "metadata": {},
     "output_type": "execute_result"
    }
   ],
   "source": [
    "10+a"
   ]
  },
  {
   "cell_type": "code",
   "execution_count": 68,
   "id": "8beff2eb",
   "metadata": {},
   "outputs": [
    {
     "name": "stderr",
     "output_type": "stream",
     "text": [
      "C:\\Users\\harsh\\AppData\\Local\\Temp\\ipykernel_10800\\4102073204.py:1: RuntimeWarning: divide by zero encountered in true_divide\n",
      "  a/0\n",
      "C:\\Users\\harsh\\AppData\\Local\\Temp\\ipykernel_10800\\4102073204.py:1: RuntimeWarning: invalid value encountered in true_divide\n",
      "  a/0\n"
     ]
    },
    {
     "data": {
      "text/plain": [
       "array([[nan, inf, inf, inf],\n",
       "       [inf, inf, inf, inf],\n",
       "       [inf, inf, inf, inf],\n",
       "       [inf, inf, inf, inf]])"
      ]
     },
     "execution_count": 68,
     "metadata": {},
     "output_type": "execute_result"
    }
   ],
   "source": [
    "a/0"
   ]
  },
  {
   "cell_type": "code",
   "execution_count": 69,
   "id": "9bcdac08",
   "metadata": {},
   "outputs": [
    {
     "data": {
      "text/plain": [
       "array([[  0,   1,   4,   9],\n",
       "       [ 16,  25,  36,  49],\n",
       "       [ 64,  81, 100, 121],\n",
       "       [144, 169, 196, 225]], dtype=int32)"
      ]
     },
     "execution_count": 69,
     "metadata": {},
     "output_type": "execute_result"
    }
   ],
   "source": [
    "a**2"
   ]
  },
  {
   "cell_type": "code",
   "execution_count": 70,
   "id": "f63021b7",
   "metadata": {},
   "outputs": [
    {
     "data": {
      "text/plain": [
       "array([[   0,    1,    8,   27],\n",
       "       [  64,  125,  216,  343],\n",
       "       [ 512,  729, 1000, 1331],\n",
       "       [1728, 2197, 2744, 3375]], dtype=int32)"
      ]
     },
     "execution_count": 70,
     "metadata": {},
     "output_type": "execute_result"
    }
   ],
   "source": [
    "pow(a,3)"
   ]
  },
  {
   "cell_type": "code",
   "execution_count": 71,
   "id": "aa0c8ca4",
   "metadata": {},
   "outputs": [
    {
     "data": {
      "text/plain": [
       "array([[ 0,  1,  2,  3],\n",
       "       [ 4,  5,  6,  7],\n",
       "       [ 8,  9, 10, 11],\n",
       "       [12, 13, 14, 15]])"
      ]
     },
     "execution_count": 71,
     "metadata": {},
     "output_type": "execute_result"
    }
   ],
   "source": [
    "a"
   ]
  },
  {
   "cell_type": "code",
   "execution_count": 72,
   "id": "29e255d4",
   "metadata": {},
   "outputs": [
    {
     "data": {
      "text/plain": [
       "array([2, 3, 1, 2])"
      ]
     },
     "execution_count": 72,
     "metadata": {},
     "output_type": "execute_result"
    }
   ],
   "source": [
    "b=np.array([2,3,1,2])\n",
    "b"
   ]
  },
  {
   "cell_type": "code",
   "execution_count": 73,
   "id": "dac348f4",
   "metadata": {},
   "outputs": [
    {
     "data": {
      "text/plain": [
       "array([[ 2,  4,  3,  5],\n",
       "       [ 6,  8,  7,  9],\n",
       "       [10, 12, 11, 13],\n",
       "       [14, 16, 15, 17]])"
      ]
     },
     "execution_count": 73,
     "metadata": {},
     "output_type": "execute_result"
    }
   ],
   "source": [
    "a+b"
   ]
  },
  {
   "cell_type": "code",
   "execution_count": 74,
   "id": "372a138a",
   "metadata": {},
   "outputs": [
    {
     "data": {
      "text/plain": [
       "array([[10, 11, 12, 13],\n",
       "       [14, 15, 16, 17],\n",
       "       [18, 19, 20, 21],\n",
       "       [22, 23, 24, 25]])"
      ]
     },
     "execution_count": 74,
     "metadata": {},
     "output_type": "execute_result"
    }
   ],
   "source": [
    "a+10"
   ]
  },
  {
   "cell_type": "code",
   "execution_count": 75,
   "id": "bb4eecbf",
   "metadata": {},
   "outputs": [
    {
     "data": {
      "text/plain": [
       "array([[0.        , 1.        , 1.41421356, 1.73205081],\n",
       "       [2.        , 2.23606798, 2.44948974, 2.64575131],\n",
       "       [2.82842712, 3.        , 3.16227766, 3.31662479],\n",
       "       [3.46410162, 3.60555128, 3.74165739, 3.87298335]])"
      ]
     },
     "execution_count": 75,
     "metadata": {},
     "output_type": "execute_result"
    }
   ],
   "source": [
    "np.sqrt(a)"
   ]
  },
  {
   "cell_type": "code",
   "execution_count": 76,
   "id": "a60c2181",
   "metadata": {},
   "outputs": [
    {
     "data": {
      "text/plain": [
       "array([[1.00000000e+00, 2.71828183e+00, 7.38905610e+00, 2.00855369e+01],\n",
       "       [5.45981500e+01, 1.48413159e+02, 4.03428793e+02, 1.09663316e+03],\n",
       "       [2.98095799e+03, 8.10308393e+03, 2.20264658e+04, 5.98741417e+04],\n",
       "       [1.62754791e+05, 4.42413392e+05, 1.20260428e+06, 3.26901737e+06]])"
      ]
     },
     "execution_count": 76,
     "metadata": {},
     "output_type": "execute_result"
    }
   ],
   "source": [
    "np.exp(a)"
   ]
  },
  {
   "cell_type": "code",
   "execution_count": 77,
   "id": "6e578762",
   "metadata": {},
   "outputs": [
    {
     "name": "stderr",
     "output_type": "stream",
     "text": [
      "C:\\Users\\harsh\\AppData\\Local\\Temp\\ipykernel_10800\\547625357.py:1: RuntimeWarning: divide by zero encountered in log10\n",
      "  np.log10(a)\n"
     ]
    },
    {
     "data": {
      "text/plain": [
       "array([[      -inf, 0.        , 0.30103   , 0.47712125],\n",
       "       [0.60205999, 0.69897   , 0.77815125, 0.84509804],\n",
       "       [0.90308999, 0.95424251, 1.        , 1.04139269],\n",
       "       [1.07918125, 1.11394335, 1.14612804, 1.17609126]])"
      ]
     },
     "execution_count": 77,
     "metadata": {},
     "output_type": "execute_result"
    }
   ],
   "source": [
    "np.log10(a)"
   ]
  },
  {
   "cell_type": "code",
   "execution_count": 78,
   "id": "64284230",
   "metadata": {},
   "outputs": [],
   "source": [
    "x=np.array([1,2,3])"
   ]
  },
  {
   "cell_type": "code",
   "execution_count": 79,
   "id": "39a192d7",
   "metadata": {},
   "outputs": [],
   "source": [
    "#solve copy(allot to same inedx position)\n",
    "y=x"
   ]
  },
  {
   "cell_type": "code",
   "execution_count": 80,
   "id": "a356baa7",
   "metadata": {},
   "outputs": [
    {
     "data": {
      "text/plain": [
       "array([1, 2, 3])"
      ]
     },
     "execution_count": 80,
     "metadata": {},
     "output_type": "execute_result"
    }
   ],
   "source": [
    "y"
   ]
  },
  {
   "cell_type": "code",
   "execution_count": 81,
   "id": "ad6a2e10",
   "metadata": {},
   "outputs": [
    {
     "data": {
      "text/plain": [
       "array([1, 2, 3])"
      ]
     },
     "execution_count": 81,
     "metadata": {},
     "output_type": "execute_result"
    }
   ],
   "source": [
    "#deep copy\n",
    "z=np.copy(x)\n",
    "z"
   ]
  },
  {
   "cell_type": "code",
   "execution_count": 82,
   "id": "92f056b2",
   "metadata": {},
   "outputs": [],
   "source": [
    "x[0]=100"
   ]
  },
  {
   "cell_type": "code",
   "execution_count": 83,
   "id": "b7811606",
   "metadata": {},
   "outputs": [
    {
     "data": {
      "text/plain": [
       "array([100,   2,   3])"
      ]
     },
     "execution_count": 83,
     "metadata": {},
     "output_type": "execute_result"
    }
   ],
   "source": [
    "y"
   ]
  },
  {
   "cell_type": "code",
   "execution_count": 84,
   "id": "cd253698",
   "metadata": {},
   "outputs": [
    {
     "data": {
      "text/plain": [
       "array([1, 2, 3])"
      ]
     },
     "execution_count": 84,
     "metadata": {},
     "output_type": "execute_result"
    }
   ],
   "source": [
    "z"
   ]
  },
  {
   "cell_type": "code",
   "execution_count": 85,
   "id": "4c39c075",
   "metadata": {},
   "outputs": [
    {
     "data": {
      "text/plain": [
       "3047256051856"
      ]
     },
     "execution_count": 85,
     "metadata": {},
     "output_type": "execute_result"
    }
   ],
   "source": [
    "id(z)"
   ]
  },
  {
   "cell_type": "code",
   "execution_count": 86,
   "id": "7f91a90d",
   "metadata": {},
   "outputs": [
    {
     "data": {
      "text/plain": [
       "3047255862576"
      ]
     },
     "execution_count": 86,
     "metadata": {},
     "output_type": "execute_result"
    }
   ],
   "source": [
    "id(z[1])"
   ]
  },
  {
   "cell_type": "code",
   "execution_count": 87,
   "id": "050d8531",
   "metadata": {},
   "outputs": [
    {
     "data": {
      "text/plain": [
       "3047256052912"
      ]
     },
     "execution_count": 87,
     "metadata": {},
     "output_type": "execute_result"
    }
   ],
   "source": [
    "id(x)"
   ]
  },
  {
   "cell_type": "code",
   "execution_count": 88,
   "id": "2bd86887",
   "metadata": {},
   "outputs": [
    {
     "data": {
      "text/plain": [
       "3047255862736"
      ]
     },
     "execution_count": 88,
     "metadata": {},
     "output_type": "execute_result"
    }
   ],
   "source": [
    "id(x[0])"
   ]
  },
  {
   "cell_type": "code",
   "execution_count": 89,
   "id": "a02d15d9",
   "metadata": {},
   "outputs": [
    {
     "data": {
      "text/plain": [
       "3047256052912"
      ]
     },
     "execution_count": 89,
     "metadata": {},
     "output_type": "execute_result"
    }
   ],
   "source": [
    "id(y)"
   ]
  },
  {
   "cell_type": "code",
   "execution_count": 90,
   "id": "8fe41395",
   "metadata": {},
   "outputs": [
    {
     "data": {
      "text/plain": [
       "3047255862864"
      ]
     },
     "execution_count": 90,
     "metadata": {},
     "output_type": "execute_result"
    }
   ],
   "source": [
    "id(y[0])"
   ]
  },
  {
   "cell_type": "code",
   "execution_count": 91,
   "id": "ebd7d5f1",
   "metadata": {},
   "outputs": [],
   "source": [
    "su=np.array([567,345])\n",
    "df=su"
   ]
  },
  {
   "cell_type": "code",
   "execution_count": 92,
   "id": "74fae1ad",
   "metadata": {},
   "outputs": [
    {
     "data": {
      "text/plain": [
       "3047256053104"
      ]
     },
     "execution_count": 92,
     "metadata": {},
     "output_type": "execute_result"
    }
   ],
   "source": [
    "id(su)"
   ]
  },
  {
   "cell_type": "code",
   "execution_count": 93,
   "id": "2bb0df03",
   "metadata": {},
   "outputs": [
    {
     "data": {
      "text/plain": [
       "3047256053104"
      ]
     },
     "execution_count": 93,
     "metadata": {},
     "output_type": "execute_result"
    }
   ],
   "source": [
    "id(df)"
   ]
  },
  {
   "cell_type": "code",
   "execution_count": 94,
   "id": "342f059b",
   "metadata": {},
   "outputs": [
    {
     "data": {
      "text/plain": [
       "True"
      ]
     },
     "execution_count": 94,
     "metadata": {},
     "output_type": "execute_result"
    }
   ],
   "source": [
    "id(su[1])==id(df[0])"
   ]
  },
  {
   "cell_type": "code",
   "execution_count": 98,
   "id": "5bc0086a",
   "metadata": {},
   "outputs": [
    {
     "data": {
      "text/plain": [
       "True"
      ]
     },
     "execution_count": 98,
     "metadata": {},
     "output_type": "execute_result"
    }
   ],
   "source": [
    "id(su[1])==id(df[1])"
   ]
  },
  {
   "cell_type": "code",
   "execution_count": 103,
   "id": "6a9176b0",
   "metadata": {},
   "outputs": [],
   "source": [
    "xt=np.array([34,67,89])"
   ]
  },
  {
   "cell_type": "code",
   "execution_count": 107,
   "id": "ee6f75b8",
   "metadata": {},
   "outputs": [
    {
     "data": {
      "text/plain": [
       "True"
      ]
     },
     "execution_count": 107,
     "metadata": {},
     "output_type": "execute_result"
    }
   ],
   "source": [
    "id(xt[0])==id(su[0])"
   ]
  },
  {
   "cell_type": "code",
   "execution_count": 109,
   "id": "cc60a160",
   "metadata": {},
   "outputs": [
    {
     "data": {
      "text/plain": [
       "False"
      ]
     },
     "execution_count": 109,
     "metadata": {},
     "output_type": "execute_result"
    }
   ],
   "source": [
    "c='sudh'\n",
    "id(c)==id(su[0])"
   ]
  }
 ],
 "metadata": {
  "kernelspec": {
   "display_name": "Python 3 (ipykernel)",
   "language": "python",
   "name": "python3"
  },
  "language_info": {
   "codemirror_mode": {
    "name": "ipython",
    "version": 3
   },
   "file_extension": ".py",
   "mimetype": "text/x-python",
   "name": "python",
   "nbconvert_exporter": "python",
   "pygments_lexer": "ipython3",
   "version": "3.9.13"
  }
 },
 "nbformat": 4,
 "nbformat_minor": 5
}
